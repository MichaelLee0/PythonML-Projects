{
 "cells": [
  {
   "cell_type": "code",
   "execution_count": 39,
   "metadata": {},
   "outputs": [],
   "source": [
    "import torch\n",
    "import numpy\n",
    "import torchvision\n",
    "from torchvision import transforms, datasets\n",
    "import matplotlib.pyplot as plt"
   ]
  },
  {
   "cell_type": "code",
   "execution_count": 40,
   "metadata": {},
   "outputs": [],
   "source": [
    "train = datasets.MNIST(\"\", train = True, download = True, transform = transforms.Compose([transforms.ToTensor()]))      \n",
    "test = datasets.MNIST(\"\", train = False, download = True, transform = transforms.Compose([transforms.ToTensor()]))"
   ]
  },
  {
   "cell_type": "code",
   "execution_count": 41,
   "metadata": {},
   "outputs": [],
   "source": [
    "trainset = torch.utils.data.DataLoader(train, batch_size = 10, shuffle = True)\n",
    "test = torch.utils.data.DataLoader(test, batch_size = 10, shuffle = True)"
   ]
  },
  {
   "cell_type": "code",
   "execution_count": 42,
   "metadata": {},
   "outputs": [],
   "source": [
    "import torch.nn as nn\n",
    "import torch.nn.functional as F\n",
    "\n",
    "class Net(nn.Module):                           # We want to inherit the methods of nn.Module in our new class \"Net\" so we write it as like a \"base input\" (i guess?)\n",
    "    def __init__(self):                         # Just realized __init__ is like code for \"blank space method\" and declares starting variables and everything\n",
    "        super().__init__()                      # super() in front of __init__() initializes the PARENT function (so we actually get its methods) and by virtue of being in an __init__ when called ALSO initializes the current one (which we need to initialize the other methods we're going to write)\n",
    "        self.fc1 = nn.Linear(28*28, 64)         # this is initializing the first \"fully connected (fc)\" column of nodes (i think) and specifying it's input (flattened 28x28 MNIST pixel grid) (input, output) -> to 64 other nodes in the hidden layer\n",
    "        self.fc2 = nn.Linear(64, 64)\n",
    "        self.fc3 = nn.Linear(64, 64)  \n",
    "        self.fc4 = nn.Linear(64, 10)            # Outputs our 10 classes\n",
    "\n",
    "    def forward(self, x):                       # Here we're just taking x, some input and passing it through first the fc1, then fc2, fc3 and so on. DEF FORWARD HERE IS OVERWRITING THE ONE IN NN.MODULE AND IS CALLED/REFERENCED IN THE SUPERCLASS\n",
    "        x = F.relu(self.fc1(x))                 # F.relu comes from out torch \"functions\" package. it stands for rectifided linear. It is our ACTIVATION FUNCTION and tells us whether it is activated or not (tries to keep things from exploding)\n",
    "\n",
    "        x = F.relu(self.fc2(x))\n",
    "        x = F.relu(self.fc3(x))                 # Our activation function is working on the BACKEND/Outputs not the feeding side\n",
    "        x = self.fc4(x)\n",
    "\n",
    "        return F.log_softmax(x, dim = 1)  "
   ]
  },
  {
   "cell_type": "code",
   "execution_count": 43,
   "metadata": {},
   "outputs": [],
   "source": [
    "net = Net() \n",
    "\n",
    "import torch.optim as optim\n",
    "optimizer = optim.Adam(net.parameters(), lr = 0.001)\n",
    "EPOCHS = 3"
   ]
  },
  {
   "cell_type": "code",
   "execution_count": 44,
   "metadata": {},
   "outputs": [
    {
     "output_type": "stream",
     "name": "stdout",
     "text": "tensor(0.1111, grad_fn=<NllLossBackward>)\ntensor(0.0246, grad_fn=<NllLossBackward>)\ntensor(0.1019, grad_fn=<NllLossBackward>)\ntensor([[-7.8510e+00, -6.1345e+00, -4.6641e+00, -1.0237e+01, -9.9048e-01,\n         -7.5132e+00, -4.9468e-01, -8.6533e+00, -5.1445e+00, -8.2344e+00],\n        [-2.1230e+01, -2.6101e+01, -2.3129e+01, -2.3859e+01, -2.2839e+01,\n         -1.4424e+01, -5.9605e-07, -3.0341e+01, -1.7966e+01, -2.9438e+01],\n        [-1.5198e+01, -1.2824e+01, -1.1297e+01, -1.8832e+01, -6.4609e-05,\n         -1.3326e+01, -1.0314e+01, -1.3049e+01, -1.1555e+01, -1.2816e+01],\n        [-1.7585e+01, -1.5707e+01, -8.9924e+00, -8.3947e+00, -1.6176e+01,\n         -8.3437e+00, -2.7706e+01, -1.0000e-03, -1.4088e+01, -7.7989e+00],\n        [-9.5708e+00, -1.2348e+01, -1.0711e+01, -1.2471e+01, -1.1271e+01,\n         -6.8962e+00, -1.4709e-03, -1.6471e+01, -7.9735e+00, -1.4313e+01],\n        [-2.7022e+01, -1.1892e+01, -8.1295e+00, -1.1851e+01, -1.7237e+01,\n         -1.8916e+01, -3.0015e+01, -3.0942e-04, -1.8111e+01, -1.4263e+01],\n        [-1.3019e+01, -1.1475e+01, -1.4312e+01, -8.2149e+00, -1.4557e+01,\n         -1.6178e-03, -7.4026e+00, -1.6782e+01, -7.2984e+00, -9.9901e+00],\n        [-5.4805e+00, -6.4926e+00, -6.2115e+00, -5.5436e+00, -7.6595e+00,\n         -5.3318e+00, -5.8503e+00, -8.0647e+00, -2.1882e-02, -6.4735e+00],\n        [-6.1510e-05, -2.0893e+01, -1.0925e+01, -1.7462e+01, -1.6478e+01,\n         -1.0599e+01, -1.1056e+01, -1.4362e+01, -1.5870e+01, -1.3094e+01],\n        [-1.4603e+01, -1.2930e+01, -1.7481e+01, -1.1402e+01, -1.5600e+01,\n         -2.2196e-03, -8.6722e+00, -1.6025e+01, -6.2012e+00, -1.2303e+01]],\n       grad_fn=<LogSoftmaxBackward>)\n"
    }
   ],
   "source": [
    "net.train()\n",
    "for epoch in range(EPOCHS):         # Trains our data with 3 rounds of 10 shuffled pictures and labels\n",
    "    for data in trainset:           # This simply unpacks our training set data\n",
    "        # data is a batch of feature sets (sets of data that describe our features) and labels\n",
    "        X, y = data\n",
    "        net.zero_grad()             # This is \"resetting\" the gradient between batches\n",
    "        output = net(X.view(-1, 28*28))             # Passing data into the network. Resizing the data to be flat (-1 is arbitrary. I think you can iterate up through n for each data set?)\n",
    "        loss = F.nll_loss(output, y)                # nll_loss is like logrithmic error\n",
    "        loss.backward()                 # Backpropogate \n",
    "        optimizer.step()                # This is what does our adjustment\n",
    "    print(loss)\n",
    "\n",
    "# print(output)               # Output returns a tensor with various values showing its normalized confidence in each choice"
   ]
  },
  {
   "cell_type": "code",
   "execution_count": 46,
   "metadata": {
    "tags": [
     "outputPrepend",
     "outputPrepend",
     "outputPrepend",
     "outputPrepend",
     "outputPrepend",
     "outputPrepend",
     "outputPrepend",
     "outputPrepend",
     "outputPrepend",
     "outputPrepend",
     "outputPrepend",
     "outputPrepend",
     "outputPrepend",
     "outputPrepend",
     "outputPrepend",
     "outputPrepend",
     "outputPrepend",
     "outputPrepend",
     "outputPrepend",
     "outputPrepend",
     "outputPrepend",
     "outputPrepend",
     "outputPrepend",
     "outputPrepend",
     "outputPrepend",
     "outputPrepend",
     "outputPrepend",
     "outputPrepend",
     "outputPrepend",
     "outputPrepend",
     "outputPrepend",
     "outputPrepend",
     "outputPrepend",
     "outputPrepend",
     "outputPrepend",
     "outputPrepend",
     "outputPrepend",
     "outputPrepend",
     "outputPrepend",
     "outputPrepend"
    ]
   },
   "outputs": [
    {
     "output_type": "stream",
     "name": "stdout",
     "text": "Accuracy:  0.98\n"
    }
   ],
   "source": [
    "correct = 0 \n",
    "total = 0\n",
    "\n",
    "with torch.no_grad():\n",
    "    for data in trainset:           # Its like data grabs an instance of 10 pictures with their labels\n",
    "        X,y = data      # X has ALL 10 pictures and y has ALL TEN corresponding labels\n",
    "        output = net(X.view(-1, 784))                # we reshape them to pass through the neural net and collect the output! the -1 says \"we don't care about the x. YOU MAKE IT so that it have 784 columns, don't care how many different rounds there are\"\n",
    "        for idx, i in enumerate(output):            # idx stores the index number. i stores all the data\n",
    "            if torch.argmax(i) == y[idx]:           # because output is in order, the output is ordered by input. SO if the largest value in the output data MATCHES its index correspondant in the label(key), then add one to correct.\n",
    "                correct += 1\n",
    "            total += 1\n",
    "\n",
    "print(\"Accuracy: \", round(correct/total,3))"
   ]
  },
  {
   "cell_type": "code",
   "execution_count": 47,
   "metadata": {},
   "outputs": [
    {
     "output_type": "display_data",
     "data": {
      "text/plain": "<Figure size 432x288 with 1 Axes>",
      "image/svg+xml": "<?xml version=\"1.0\" encoding=\"utf-8\" standalone=\"no\"?>\n<!DOCTYPE svg PUBLIC \"-//W3C//DTD SVG 1.1//EN\"\n  \"http://www.w3.org/Graphics/SVG/1.1/DTD/svg11.dtd\">\n<!-- Created with matplotlib (https://matplotlib.org/) -->\n<svg height=\"248.518125pt\" version=\"1.1\" viewBox=\"0 0 251.565 248.518125\" width=\"251.565pt\" xmlns=\"http://www.w3.org/2000/svg\" xmlns:xlink=\"http://www.w3.org/1999/xlink\">\n <defs>\n  <style type=\"text/css\">\n*{stroke-linecap:butt;stroke-linejoin:round;}\n  </style>\n </defs>\n <g id=\"figure_1\">\n  <g id=\"patch_1\">\n   <path d=\"M 0 248.518125 \nL 251.565 248.518125 \nL 251.565 0 \nL 0 0 \nz\n\" style=\"fill:none;\"/>\n  </g>\n  <g id=\"axes_1\">\n   <g id=\"patch_2\">\n    <path d=\"M 26.925 224.64 \nL 244.365 224.64 \nL 244.365 7.2 \nL 26.925 7.2 \nz\n\" style=\"fill:#ffffff;\"/>\n   </g>\n   <g clip-path=\"url(#pd4a62124c0)\">\n    <image height=\"218\" id=\"image8a28d667be\" transform=\"scale(1 -1)translate(0 -218)\" width=\"218\" x=\"26.925\" xlink:href=\"data:image/png;base64,\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\" y=\"-6.64\"/>\n   </g>\n   <g id=\"matplotlib.axis_1\">\n    <g id=\"xtick_1\">\n     <g id=\"line2d_1\">\n      <defs>\n       <path d=\"M 0 0 \nL 0 3.5 \n\" id=\"m32118029bc\" style=\"stroke:#000000;stroke-width:0.8;\"/>\n      </defs>\n      <g>\n       <use style=\"stroke:#000000;stroke-width:0.8;\" x=\"30.807857\" xlink:href=\"#m32118029bc\" y=\"224.64\"/>\n      </g>\n     </g>\n     <g id=\"text_1\">\n      <!-- 0 -->\n      <defs>\n       <path d=\"M 31.78125 66.40625 \nQ 24.171875 66.40625 20.328125 58.90625 \nQ 16.5 51.421875 16.5 36.375 \nQ 16.5 21.390625 20.328125 13.890625 \nQ 24.171875 6.390625 31.78125 6.390625 \nQ 39.453125 6.390625 43.28125 13.890625 \nQ 47.125 21.390625 47.125 36.375 \nQ 47.125 51.421875 43.28125 58.90625 \nQ 39.453125 66.40625 31.78125 66.40625 \nz\nM 31.78125 74.21875 \nQ 44.046875 74.21875 50.515625 64.515625 \nQ 56.984375 54.828125 56.984375 36.375 \nQ 56.984375 17.96875 50.515625 8.265625 \nQ 44.046875 -1.421875 31.78125 -1.421875 \nQ 19.53125 -1.421875 13.0625 8.265625 \nQ 6.59375 17.96875 6.59375 36.375 \nQ 6.59375 54.828125 13.0625 64.515625 \nQ 19.53125 74.21875 31.78125 74.21875 \nz\n\" id=\"DejaVuSans-48\"/>\n      </defs>\n      <g transform=\"translate(27.626607 239.238437)scale(0.1 -0.1)\">\n       <use xlink:href=\"#DejaVuSans-48\"/>\n      </g>\n     </g>\n    </g>\n    <g id=\"xtick_2\">\n     <g id=\"line2d_2\">\n      <g>\n       <use style=\"stroke:#000000;stroke-width:0.8;\" x=\"69.636429\" xlink:href=\"#m32118029bc\" y=\"224.64\"/>\n      </g>\n     </g>\n     <g id=\"text_2\">\n      <!-- 5 -->\n      <defs>\n       <path d=\"M 10.796875 72.90625 \nL 49.515625 72.90625 \nL 49.515625 64.59375 \nL 19.828125 64.59375 \nL 19.828125 46.734375 \nQ 21.96875 47.46875 24.109375 47.828125 \nQ 26.265625 48.1875 28.421875 48.1875 \nQ 40.625 48.1875 47.75 41.5 \nQ 54.890625 34.8125 54.890625 23.390625 \nQ 54.890625 11.625 47.5625 5.09375 \nQ 40.234375 -1.421875 26.90625 -1.421875 \nQ 22.3125 -1.421875 17.546875 -0.640625 \nQ 12.796875 0.140625 7.71875 1.703125 \nL 7.71875 11.625 \nQ 12.109375 9.234375 16.796875 8.0625 \nQ 21.484375 6.890625 26.703125 6.890625 \nQ 35.15625 6.890625 40.078125 11.328125 \nQ 45.015625 15.765625 45.015625 23.390625 \nQ 45.015625 31 40.078125 35.4375 \nQ 35.15625 39.890625 26.703125 39.890625 \nQ 22.75 39.890625 18.8125 39.015625 \nQ 14.890625 38.140625 10.796875 36.28125 \nz\n\" id=\"DejaVuSans-53\"/>\n      </defs>\n      <g transform=\"translate(66.455179 239.238437)scale(0.1 -0.1)\">\n       <use xlink:href=\"#DejaVuSans-53\"/>\n      </g>\n     </g>\n    </g>\n    <g id=\"xtick_3\">\n     <g id=\"line2d_3\">\n      <g>\n       <use style=\"stroke:#000000;stroke-width:0.8;\" x=\"108.465\" xlink:href=\"#m32118029bc\" y=\"224.64\"/>\n      </g>\n     </g>\n     <g id=\"text_3\">\n      <!-- 10 -->\n      <defs>\n       <path d=\"M 12.40625 8.296875 \nL 28.515625 8.296875 \nL 28.515625 63.921875 \nL 10.984375 60.40625 \nL 10.984375 69.390625 \nL 28.421875 72.90625 \nL 38.28125 72.90625 \nL 38.28125 8.296875 \nL 54.390625 8.296875 \nL 54.390625 0 \nL 12.40625 0 \nz\n\" id=\"DejaVuSans-49\"/>\n      </defs>\n      <g transform=\"translate(102.1025 239.238437)scale(0.1 -0.1)\">\n       <use xlink:href=\"#DejaVuSans-49\"/>\n       <use x=\"63.623047\" xlink:href=\"#DejaVuSans-48\"/>\n      </g>\n     </g>\n    </g>\n    <g id=\"xtick_4\">\n     <g id=\"line2d_4\">\n      <g>\n       <use style=\"stroke:#000000;stroke-width:0.8;\" x=\"147.293571\" xlink:href=\"#m32118029bc\" y=\"224.64\"/>\n      </g>\n     </g>\n     <g id=\"text_4\">\n      <!-- 15 -->\n      <g transform=\"translate(140.931071 239.238437)scale(0.1 -0.1)\">\n       <use xlink:href=\"#DejaVuSans-49\"/>\n       <use x=\"63.623047\" xlink:href=\"#DejaVuSans-53\"/>\n      </g>\n     </g>\n    </g>\n    <g id=\"xtick_5\">\n     <g id=\"line2d_5\">\n      <g>\n       <use style=\"stroke:#000000;stroke-width:0.8;\" x=\"186.122143\" xlink:href=\"#m32118029bc\" y=\"224.64\"/>\n      </g>\n     </g>\n     <g id=\"text_5\">\n      <!-- 20 -->\n      <defs>\n       <path d=\"M 19.1875 8.296875 \nL 53.609375 8.296875 \nL 53.609375 0 \nL 7.328125 0 \nL 7.328125 8.296875 \nQ 12.9375 14.109375 22.625 23.890625 \nQ 32.328125 33.6875 34.8125 36.53125 \nQ 39.546875 41.84375 41.421875 45.53125 \nQ 43.3125 49.21875 43.3125 52.78125 \nQ 43.3125 58.59375 39.234375 62.25 \nQ 35.15625 65.921875 28.609375 65.921875 \nQ 23.96875 65.921875 18.8125 64.3125 \nQ 13.671875 62.703125 7.8125 59.421875 \nL 7.8125 69.390625 \nQ 13.765625 71.78125 18.9375 73 \nQ 24.125 74.21875 28.421875 74.21875 \nQ 39.75 74.21875 46.484375 68.546875 \nQ 53.21875 62.890625 53.21875 53.421875 \nQ 53.21875 48.921875 51.53125 44.890625 \nQ 49.859375 40.875 45.40625 35.40625 \nQ 44.1875 33.984375 37.640625 27.21875 \nQ 31.109375 20.453125 19.1875 8.296875 \nz\n\" id=\"DejaVuSans-50\"/>\n      </defs>\n      <g transform=\"translate(179.759643 239.238437)scale(0.1 -0.1)\">\n       <use xlink:href=\"#DejaVuSans-50\"/>\n       <use x=\"63.623047\" xlink:href=\"#DejaVuSans-48\"/>\n      </g>\n     </g>\n    </g>\n    <g id=\"xtick_6\">\n     <g id=\"line2d_6\">\n      <g>\n       <use style=\"stroke:#000000;stroke-width:0.8;\" x=\"224.950714\" xlink:href=\"#m32118029bc\" y=\"224.64\"/>\n      </g>\n     </g>\n     <g id=\"text_6\">\n      <!-- 25 -->\n      <g transform=\"translate(218.588214 239.238437)scale(0.1 -0.1)\">\n       <use xlink:href=\"#DejaVuSans-50\"/>\n       <use x=\"63.623047\" xlink:href=\"#DejaVuSans-53\"/>\n      </g>\n     </g>\n    </g>\n   </g>\n   <g id=\"matplotlib.axis_2\">\n    <g id=\"ytick_1\">\n     <g id=\"line2d_7\">\n      <defs>\n       <path d=\"M 0 0 \nL -3.5 0 \n\" id=\"m5ff73aa9d0\" style=\"stroke:#000000;stroke-width:0.8;\"/>\n      </defs>\n      <g>\n       <use style=\"stroke:#000000;stroke-width:0.8;\" x=\"26.925\" xlink:href=\"#m5ff73aa9d0\" y=\"11.082857\"/>\n      </g>\n     </g>\n     <g id=\"text_7\">\n      <!-- 0 -->\n      <g transform=\"translate(13.5625 14.882076)scale(0.1 -0.1)\">\n       <use xlink:href=\"#DejaVuSans-48\"/>\n      </g>\n     </g>\n    </g>\n    <g id=\"ytick_2\">\n     <g id=\"line2d_8\">\n      <g>\n       <use style=\"stroke:#000000;stroke-width:0.8;\" x=\"26.925\" xlink:href=\"#m5ff73aa9d0\" y=\"49.911429\"/>\n      </g>\n     </g>\n     <g id=\"text_8\">\n      <!-- 5 -->\n      <g transform=\"translate(13.5625 53.710647)scale(0.1 -0.1)\">\n       <use xlink:href=\"#DejaVuSans-53\"/>\n      </g>\n     </g>\n    </g>\n    <g id=\"ytick_3\">\n     <g id=\"line2d_9\">\n      <g>\n       <use style=\"stroke:#000000;stroke-width:0.8;\" x=\"26.925\" xlink:href=\"#m5ff73aa9d0\" y=\"88.74\"/>\n      </g>\n     </g>\n     <g id=\"text_9\">\n      <!-- 10 -->\n      <g transform=\"translate(7.2 92.539219)scale(0.1 -0.1)\">\n       <use xlink:href=\"#DejaVuSans-49\"/>\n       <use x=\"63.623047\" xlink:href=\"#DejaVuSans-48\"/>\n      </g>\n     </g>\n    </g>\n    <g id=\"ytick_4\">\n     <g id=\"line2d_10\">\n      <g>\n       <use style=\"stroke:#000000;stroke-width:0.8;\" x=\"26.925\" xlink:href=\"#m5ff73aa9d0\" y=\"127.568571\"/>\n      </g>\n     </g>\n     <g id=\"text_10\">\n      <!-- 15 -->\n      <g transform=\"translate(7.2 131.36779)scale(0.1 -0.1)\">\n       <use xlink:href=\"#DejaVuSans-49\"/>\n       <use x=\"63.623047\" xlink:href=\"#DejaVuSans-53\"/>\n      </g>\n     </g>\n    </g>\n    <g id=\"ytick_5\">\n     <g id=\"line2d_11\">\n      <g>\n       <use style=\"stroke:#000000;stroke-width:0.8;\" x=\"26.925\" xlink:href=\"#m5ff73aa9d0\" y=\"166.397143\"/>\n      </g>\n     </g>\n     <g id=\"text_11\">\n      <!-- 20 -->\n      <g transform=\"translate(7.2 170.196362)scale(0.1 -0.1)\">\n       <use xlink:href=\"#DejaVuSans-50\"/>\n       <use x=\"63.623047\" xlink:href=\"#DejaVuSans-48\"/>\n      </g>\n     </g>\n    </g>\n    <g id=\"ytick_6\">\n     <g id=\"line2d_12\">\n      <g>\n       <use style=\"stroke:#000000;stroke-width:0.8;\" x=\"26.925\" xlink:href=\"#m5ff73aa9d0\" y=\"205.225714\"/>\n      </g>\n     </g>\n     <g id=\"text_12\">\n      <!-- 25 -->\n      <g transform=\"translate(7.2 209.024933)scale(0.1 -0.1)\">\n       <use xlink:href=\"#DejaVuSans-50\"/>\n       <use x=\"63.623047\" xlink:href=\"#DejaVuSans-53\"/>\n      </g>\n     </g>\n    </g>\n   </g>\n   <g id=\"patch_3\">\n    <path d=\"M 26.925 224.64 \nL 26.925 7.2 \n\" style=\"fill:none;stroke:#000000;stroke-linecap:square;stroke-linejoin:miter;stroke-width:0.8;\"/>\n   </g>\n   <g id=\"patch_4\">\n    <path d=\"M 244.365 224.64 \nL 244.365 7.2 \n\" style=\"fill:none;stroke:#000000;stroke-linecap:square;stroke-linejoin:miter;stroke-width:0.8;\"/>\n   </g>\n   <g id=\"patch_5\">\n    <path d=\"M 26.925 224.64 \nL 244.365 224.64 \n\" style=\"fill:none;stroke:#000000;stroke-linecap:square;stroke-linejoin:miter;stroke-width:0.8;\"/>\n   </g>\n   <g id=\"patch_6\">\n    <path d=\"M 26.925 7.2 \nL 244.365 7.2 \n\" style=\"fill:none;stroke:#000000;stroke-linecap:square;stroke-linejoin:miter;stroke-width:0.8;\"/>\n   </g>\n  </g>\n </g>\n <defs>\n  <clipPath id=\"pd4a62124c0\">\n   <rect height=\"217.44\" width=\"217.44\" x=\"26.925\" y=\"7.2\"/>\n  </clipPath>\n </defs>\n</svg>\n",
      "image/png": "[encoded data removed]"
     },
     "metadata": {
      "needs_background": "light"
     }
    }
   ],
   "source": [
    "plt.imshow(X[0].view(28,28))\n",
    "plt.show()"
   ]
  },
  {
   "cell_type": "code",
   "execution_count": 56,
   "metadata": {},
   "outputs": [
    {
     "output_type": "stream",
     "name": "stdout",
     "text": "tensor(2, grad_fn=<NotImplemented>)\n"
    }
   ],
   "source": [
    "print(torch.argmax(net(X[0].view(-1,784))[0]))"
   ]
  },
  {
   "cell_type": "code",
   "execution_count": null,
   "metadata": {},
   "outputs": [],
   "source": []
  }
 ],
 "metadata": {
  "language_info": {
   "codemirror_mode": {
    "name": "ipython",
    "version": 3
   },
   "file_extension": ".py",
   "mimetype": "text/x-python",
   "name": "python",
   "nbconvert_exporter": "python",
   "pygments_lexer": "ipython3",
   "version": "3.8.3-final"
  },
  "orig_nbformat": 2,
  "kernelspec": {
   "name": "python38364bitmachineengconda5b8a08ba0f324f75a5c2e728dd90189e",
   "display_name": "Python 3.8.3 64-bit ('MachineEng': conda)"
  }
 },
 "nbformat": 4,
 "nbformat_minor": 2
}